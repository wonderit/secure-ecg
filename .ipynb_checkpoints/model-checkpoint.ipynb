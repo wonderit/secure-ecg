{
 "cells": [
  {
   "cell_type": "code",
   "execution_count": 1,
   "metadata": {},
   "outputs": [
    {
     "name": "stdout",
     "output_type": "stream",
     "text": [
      "1000\n"
     ]
    }
   ],
   "source": [
    "import glob \n",
    "import h5py\n",
    "import numpy as np\n",
    "import torch\n",
    "from torch.utils.data import Dataset, DataLoader\n",
    "\n",
    "torch.manual_seed(7)\n",
    "\n",
    "DATAPATH = '/Users/wonsuk/projects/data/ecg/raw/2019-11-19'\n",
    "DATA_LENGTH = 1000\n",
    "TRAIN_RATIO = 0.8\n",
    "ecg_key_string_list = [ \n",
    "    \"strip_I\", \n",
    "    \"strip_II\",\n",
    "    \"strip_III\",\n",
    "    \"strip_V1\",\n",
    "    \"strip_V2\",\n",
    "    \"strip_V3\",\n",
    "    \"strip_V4\",\n",
    "    \"strip_V5\",\n",
    "    \"strip_V6\",\n",
    "    \"strip_aVF\",\n",
    "    \"strip_aVL\",\n",
    "    \"strip_aVR\"\n",
    "]\n",
    "\n",
    "hdf5_files = []\n",
    "count = 0\n",
    "for f in glob.glob(\"{}/*.hd5\".format(DATAPATH)):\n",
    "    count += 1\n",
    "    if count > DATA_LENGTH:\n",
    "        break\n",
    "    hdf5_files.append(f)\n",
    "        \n",
    "print(len(hdf5_files))\n",
    "\n",
    "class ECGDataset(Dataset):\n",
    "    def __init__(self, data, target, transform=None):\n",
    "        self.data = torch.from_numpy(data).int()\n",
    "        self.target = torch.from_numpy(target).float()\n",
    "        self.transform = transform\n",
    "        \n",
    "    def __getitem__(self, index):\n",
    "            \n",
    "        x = self.data[index]\n",
    "        y = self.target[index]\n",
    "        \n",
    "        if self.transform:\n",
    "            x = self.transform(x)\n",
    "            \n",
    "        return x, y\n",
    "    \n",
    "    def __len__(self):\n",
    "        return len(self.data)\n",
    "    \n",
    "y_all = []\n",
    "for hdf_file in hdf5_files:\n",
    "    f = h5py.File(hdf_file, 'r')\n",
    "    y_all.append(f['continuous']['VentricularRate'][0])\n",
    "    x = np.zeros(shape=(12, 5000))\n",
    "    for (i, key) in enumerate(ecg_key_string_list):\n",
    "        x[i][:] = f['ecg_rest'][key][:]\n",
    "    x_all.append(x)\n",
    "    \n",
    "data = ECGDataset(np.asarray(x_all), np.asarray(y_all))\n",
    "\n",
    "train_size = int(TRAIN_RATIO * len(data))"
   ]
  }
 ],
 "metadata": {
  "kernelspec": {
   "display_name": "Python 3",
   "language": "python",
   "name": "python3"
  },
  "language_info": {
   "codemirror_mode": {
    "name": "ipython",
    "version": 3
   },
   "file_extension": ".py",
   "mimetype": "text/x-python",
   "name": "python",
   "nbconvert_exporter": "python",
   "pygments_lexer": "ipython3",
   "version": "3.7.5"
  }
 },
 "nbformat": 4,
 "nbformat_minor": 1
}
